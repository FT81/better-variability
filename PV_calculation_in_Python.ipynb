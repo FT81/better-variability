{
 "cells": [
  {
   "cell_type": "code",
   "execution_count": 1,
   "metadata": {},
   "outputs": [],
   "source": [
    "import numpy as np\n",
    "from numpy import random\n",
    "import math\n",
    "import matplotlib.pyplot as plt\n",
    "from scipy.stats import gamma"
   ]
  },
  {
   "cell_type": "code",
   "execution_count": 2,
   "metadata": {},
   "outputs": [],
   "source": [
    "    \n",
    "    abundances = gamma.rvs(a=1, size=1000)\n",
    "    #abundances = np.array([110,90,110,90,110,90,110,90,110,90,80,70,60,50,40,20,10,4,2,1])\n",
    "    abundances.sort() \n",
    "    combs=(len(abundances)*(len(abundances)-1))/2\n",
    "   \n",
    "    def pvp(x):\n",
    "        total = 0\n",
    "        for i, xi in enumerate(x[:-1], 1):\n",
    "             total +=np.sum((np.abs(xi - x[i:])/xi))\n",
    "        return total/combs\n",
    "    \n",
    "    def pvm(x):\n",
    "        total = 0\n",
    "        for i, xi in enumerate(x[:-1], 1):\n",
    "             total +=np.sum(np.abs(xi - x[i:])/(x[i:]))\n",
    "        return total/combs  \n",
    "    \n",
    "   \n",
    "    PVplus=pvp(abundances)\n",
    "    PVprime=1-(1/(1+PVplus))\n",
    "    PVminus=pvm(abundances)\n",
    "    PVdprime=1-(1/(1+PVminus))\n",
    "    PV=(PVprime+PVdprime)/2\n",
    "    \n",
    "    CV=np.std(abundances)/np.mean(abundances)     \n",
    "    \n",
    "    logvals=[math.log(i) for i in abundances]\n",
    "    SDL=np.std(logvals)\n",
    "\n",
    "    "
   ]
  },
  {
   "cell_type": "code",
   "execution_count": 3,
   "metadata": {},
   "outputs": [
    {
     "name": "stdout",
     "output_type": "stream",
     "text": [
      "0.6629775095702826 1.0185727757458554 1.3477656842670456\n"
     ]
    }
   ],
   "source": [
    "print(PV,CV,SDL)"
   ]
  },
  {
   "cell_type": "code",
   "execution_count": 4,
   "metadata": {},
   "outputs": [
    {
     "name": "stdout",
     "output_type": "stream",
     "text": [
      "15.587847792087203 0.9397149037937866 0.6293016617809861 0.3862401153467786\n"
     ]
    }
   ],
   "source": [
    "print(PVplus,PVprime,PVminus,PVdprime)"
   ]
  },
  {
   "cell_type": "code",
   "execution_count": 5,
   "metadata": {},
   "outputs": [
    {
     "data": {
      "text/plain": [
       "499500.0"
      ]
     },
     "execution_count": 5,
     "metadata": {},
     "output_type": "execute_result"
    }
   ],
   "source": [
    "combs"
   ]
  },
  {
   "cell_type": "code",
   "execution_count": 6,
   "metadata": {},
   "outputs": [
    {
     "data": {
      "image/png": "[encoded data removed]",
      "text/plain": [
       "<Figure size 640x480 with 1 Axes>"
      ]
     },
     "metadata": {},
     "output_type": "display_data"
    }
   ],
   "source": [
    "plt.hist(abundances, color = 'blue', edgecolor = 'black', bins = round(np.sqrt(len(abundances))))\n",
    "plt.xlabel('Distribution')\n",
    "plt.ylabel('Abundance Frequency')\n",
    "plt.show()"
   ]
  },
  {
   "cell_type": "code",
   "execution_count": null,
   "metadata": {},
   "outputs": [],
   "source": []
  },
  {
   "cell_type": "code",
   "execution_count": null,
   "metadata": {},
   "outputs": [],
   "source": []
  }
 ],
 "metadata": {
  "kernelspec": {
   "display_name": "Python 3 (ipykernel)",
   "language": "python",
   "name": "python3"
  },
  "language_info": {
   "codemirror_mode": {
    "name": "ipython",
    "version": 3
   },
   "file_extension": ".py",
   "mimetype": "text/x-python",
   "name": "python",
   "nbconvert_exporter": "python",
   "pygments_lexer": "ipython3",
   "version": "3.9.13"
  }
 },
 "nbformat": 4,
 "nbformat_minor": 4
}
