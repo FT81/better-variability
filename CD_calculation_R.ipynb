{
 "cells": [
  {
   "cell_type": "markdown",
   "metadata": {},
   "source": [
    "\n",
    "\n",
    "$$\\text{CD}=\\frac{1}{n-1}\\sum_{cons}\\Big(\\frac{|z_i-z_j|}{2z_i}+\\frac{|z_i-z_j|}{2z_j}\\Big)=\n",
    "\\frac{1}{n-1}\\sum_{cons}\\Big|\\frac{z_i^2-z_j^2}{2(z_i\\cdot z_j)}\\Big|$$\n",
    "\n"
   ]
  },
  {
   "cell_type": "markdown",
   "metadata": {},
   "source": [
    "#### If there are only positive values in the time series:"
   ]
  },
  {
   "cell_type": "code",
   "execution_count": 1,
   "metadata": {},
   "outputs": [],
   "source": [
    "timeseries<-c(100,20,100,20,100,20,100,20,100,20,100,20,100,20,100,20,100,20,100,20)"
   ]
  },
  {
   "cell_type": "code",
   "execution_count": 2,
   "metadata": {},
   "outputs": [],
   "source": [
    "for(value in timeseries){\n",
    "    values<-timeseries^2\n",
    "    \n",
    "    for(vals in values){\n",
    "        val<-values[1:(length(timeseries)-1)]\n",
    "        next_val<-values[2:(length(timeseries))]\n",
    "        numerator<-val-next_val     \n",
    "    }\n",
    "    \n",
    "   for(value in timeseries){\n",
    "       value<-timeseries[1:(length(timeseries)-1)]\n",
    "       next_value<-timeseries[2:(length(timeseries))]\n",
    "       denominator<-2*(value*next_value)    \n",
    "    } \n",
    "    \n",
    "    sumPD<-sum(abs(numerator/denominator))\n",
    "}\n",
    "CD<-sumPD*(1/(length(timeseries)-1))"
   ]
  },
  {
   "cell_type": "code",
   "execution_count": 3,
   "metadata": {},
   "outputs": [
    {
     "name": "stdout",
     "output_type": "stream",
     "text": [
      " [1] 100  20 100  20 100  20 100  20 100  20 100  20 100  20 100  20 100  20 100\n"
     ]
    }
   ],
   "source": [
    "print(value)"
   ]
  },
  {
   "cell_type": "code",
   "execution_count": 4,
   "metadata": {},
   "outputs": [
    {
     "name": "stdout",
     "output_type": "stream",
     "text": [
      " [1]  20 100  20 100  20 100  20 100  20 100  20 100  20 100  20 100  20 100  20\n"
     ]
    }
   ],
   "source": [
    "print(next_value)"
   ]
  },
  {
   "cell_type": "code",
   "execution_count": 5,
   "metadata": {},
   "outputs": [
    {
     "name": "stdout",
     "output_type": "stream",
     "text": [
      "[1] 45.6\n"
     ]
    }
   ],
   "source": [
    "print(sumPD)"
   ]
  },
  {
   "cell_type": "code",
   "execution_count": 6,
   "metadata": {},
   "outputs": [
    {
     "name": "stdout",
     "output_type": "stream",
     "text": [
      "[1] 2.4\n"
     ]
    }
   ],
   "source": [
    "print(CD)"
   ]
  },
  {
   "cell_type": "code",
   "execution_count": 7,
   "metadata": {},
   "outputs": [
    {
     "data": {
      "image/png": "[encoded data removed]",
      "text/plain": [
       "plot without title"
      ]
     },
     "metadata": {
      "image/png": {
       "height": 420,
       "width": 420
      }
     },
     "output_type": "display_data"
    }
   ],
   "source": [
    "x<-seq(1:length(timeseries))\n",
    "barplot(timeseries,names.arg=x,xlab=\"time steps\",ylab=\"population abundance\",\n",
    "col='darkblue')"
   ]
  },
  {
   "cell_type": "code",
   "execution_count": 8,
   "metadata": {},
   "outputs": [],
   "source": [
    "tseries<-c(1,1,1,2,2,2,4,4,6,8,10,11,10,1)"
   ]
  },
  {
   "cell_type": "code",
   "execution_count": 9,
   "metadata": {},
   "outputs": [],
   "source": [
    "for(abundance in tseries){\n",
    "   \n",
    "    for(values in tseries){\n",
    "        abundance<-tseries[1:(length(tseries)-1)]\n",
    "        next_abundance<-tseries[2:(length(tseries))]\n",
    "        \n",
    "       }\n",
    "    \n",
    "    diff<-abs(abundance^2-next_abundance^2)/(2*abundance*next_abundance)                                    \n",
    "    sum<-sum(diff)    \n",
    "}   \n",
    " \n",
    "   CD2<-sum*(1/(length(tseries)-1))     \n",
    "\n"
   ]
  },
  {
   "cell_type": "code",
   "execution_count": 10,
   "metadata": {},
   "outputs": [
    {
     "name": "stdout",
     "output_type": "stream",
     "text": [
      " [1]  1  1  1  2  2  2  4  4  6  8 10 11 10\n"
     ]
    }
   ],
   "source": [
    "print(abundance)"
   ]
  },
  {
   "cell_type": "code",
   "execution_count": 11,
   "metadata": {},
   "outputs": [
    {
     "name": "stdout",
     "output_type": "stream",
     "text": [
      " [1]  1  1  2  2  2  4  4  6  8 10 11 10  1\n"
     ]
    }
   ],
   "source": [
    "print(next_abundance)"
   ]
  },
  {
   "cell_type": "code",
   "execution_count": 12,
   "metadata": {},
   "outputs": [
    {
     "name": "stdout",
     "output_type": "stream",
     "text": [
      " [1] 0.00000000 0.00000000 0.75000000 0.00000000 0.00000000 0.75000000\n",
      " [7] 0.00000000 0.41666667 0.29166667 0.22500000 0.09545455 0.09545455\n",
      "[13] 4.95000000\n"
     ]
    }
   ],
   "source": [
    "print(diff)"
   ]
  },
  {
   "cell_type": "code",
   "execution_count": 13,
   "metadata": {},
   "outputs": [
    {
     "name": "stdout",
     "output_type": "stream",
     "text": [
      "[1] 7.574242\n"
     ]
    }
   ],
   "source": [
    "print(sum)"
   ]
  },
  {
   "cell_type": "code",
   "execution_count": 14,
   "metadata": {},
   "outputs": [
    {
     "name": "stdout",
     "output_type": "stream",
     "text": [
      "[1] 0.582634\n"
     ]
    }
   ],
   "source": [
    "print(CD2)"
   ]
  },
  {
   "cell_type": "code",
   "execution_count": 15,
   "metadata": {},
   "outputs": [
    {
     "data": {
      "image/png": "[encoded data removed]",
      "text/plain": [
       "plot without title"
      ]
     },
     "metadata": {
      "image/png": {
       "height": 420,
       "width": 420
      }
     },
     "output_type": "display_data"
    }
   ],
   "source": [
    "y<-seq(1:length(tseries))\n",
    "barplot(tseries,names.arg=y,xlab=\"time steps\",ylab=\"population abundance\",\n",
    "col='darkblue')"
   ]
  }
 ],
 "metadata": {
  "kernelspec": {
   "display_name": "R",
   "language": "R",
   "name": "ir"
  },
  "language_info": {
   "codemirror_mode": "r",
   "file_extension": ".r",
   "mimetype": "text/x-r-source",
   "name": "R",
   "pygments_lexer": "r",
   "version": "4.1.3"
  }
 },
 "nbformat": 4,
 "nbformat_minor": 4
}
